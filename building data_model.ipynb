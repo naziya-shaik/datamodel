{
 "cells": [
  {
   "cell_type": "markdown",
   "id": "98dbd87f",
   "metadata": {},
   "source": [
    "# Building Data model project"
   ]
  },
  {
   "cell_type": "code",
   "execution_count": 1,
   "id": "f0728aeb",
   "metadata": {},
   "outputs": [],
   "source": [
    "import psycopg2\n",
    "import pandas as pd"
   ]
  },
  {
   "cell_type": "raw",
   "id": "5b093c97",
   "metadata": {},
   "source": [
    "# Creating database in postgresql"
   ]
  },
  {
   "cell_type": "code",
   "execution_count": 2,
   "id": "1b1eb439",
   "metadata": {},
   "outputs": [],
   "source": [
    "def create_database():\n",
    "    #connect to default database\n",
    "    #conn=psycopg2.connect(\"host=127.0.0.1 dbname=studentdb user=postgres password=8523058480\")\n",
    "    conn=psycopg2.connect(\"host=127.0.0.1 dbname=postgres user=postgres password=8523058480\")\n",
    "    conn.set_session(autocommit=True)\n",
    "    cur=conn.cursor()\n",
    "    \n",
    "    #create sparkify database with UTF8 encoding\n",
    "    #cur.execute(\"DROP DATABASE instagram\")\n",
    "    cur.execute(\"CREATE DATABASE instagram\")\n",
    "    \n",
    "    #close connection to default database\n",
    "    conn.close()\n",
    "    \n",
    "    #connect to sparkify database\n",
    "    conn=psycopg2.connect(\"host=127.0.0.1 dbname=instagram user=postgres password=8523058480\")\n",
    "    cur=conn.cursor()\n",
    "    \n",
    "    return cur,conn"
   ]
  },
  {
   "cell_type": "code",
   "execution_count": 3,
   "id": "46495eb1",
   "metadata": {},
   "outputs": [],
   "source": [
    "def drop_tables(cur,conn):\n",
    "    for query in drop_table_queries:\n",
    "        cur.execute(query)\n",
    "        conn.commit()"
   ]
  },
  {
   "cell_type": "code",
   "execution_count": 4,
   "id": "bc2aaae5",
   "metadata": {},
   "outputs": [],
   "source": [
    "def create_tables(cur,conn):\n",
    "    for query in create_table_queries:\n",
    "        cur.execute(query)\n",
    "        conn.commit()"
   ]
  },
  {
   "cell_type": "code",
   "execution_count": null,
   "id": "b3c17112",
   "metadata": {},
   "outputs": [],
   "source": [
    "# Reading Comments csv file using pandas"
   ]
  },
  {
   "cell_type": "code",
   "execution_count": 5,
   "id": "52636aa8",
   "metadata": {},
   "outputs": [],
   "source": [
    "instaComments=pd.read_csv(\"E:\\DEprojects\\data\\comments.csv\")\n"
   ]
  },
  {
   "cell_type": "code",
   "execution_count": 6,
   "id": "faf754c5",
   "metadata": {},
   "outputs": [
    {
     "data": {
      "text/html": [
       "<div>\n",
       "<style scoped>\n",
       "    .dataframe tbody tr th:only-of-type {\n",
       "        vertical-align: middle;\n",
       "    }\n",
       "\n",
       "    .dataframe tbody tr th {\n",
       "        vertical-align: top;\n",
       "    }\n",
       "\n",
       "    .dataframe thead th {\n",
       "        text-align: right;\n",
       "    }\n",
       "</style>\n",
       "<table border=\"1\" class=\"dataframe\">\n",
       "  <thead>\n",
       "    <tr style=\"text-align: right;\">\n",
       "      <th></th>\n",
       "      <th>id</th>\n",
       "      <th>comment_text</th>\n",
       "      <th>user_id</th>\n",
       "      <th>photo_id</th>\n",
       "      <th>created_at</th>\n",
       "    </tr>\n",
       "  </thead>\n",
       "  <tbody>\n",
       "    <tr>\n",
       "      <th>0</th>\n",
       "      <td>1</td>\n",
       "      <td>unde at dolorem</td>\n",
       "      <td>2</td>\n",
       "      <td>1</td>\n",
       "      <td>13-04-2023 08:04</td>\n",
       "    </tr>\n",
       "    <tr>\n",
       "      <th>1</th>\n",
       "      <td>2</td>\n",
       "      <td>quae ea ducimus</td>\n",
       "      <td>3</td>\n",
       "      <td>1</td>\n",
       "      <td>13-04-2023 08:04</td>\n",
       "    </tr>\n",
       "    <tr>\n",
       "      <th>2</th>\n",
       "      <td>3</td>\n",
       "      <td>alias a voluptatum</td>\n",
       "      <td>5</td>\n",
       "      <td>1</td>\n",
       "      <td>13-04-2023 08:04</td>\n",
       "    </tr>\n",
       "    <tr>\n",
       "      <th>3</th>\n",
       "      <td>4</td>\n",
       "      <td>facere suscipit sunt</td>\n",
       "      <td>14</td>\n",
       "      <td>1</td>\n",
       "      <td>13-04-2023 08:04</td>\n",
       "    </tr>\n",
       "    <tr>\n",
       "      <th>4</th>\n",
       "      <td>5</td>\n",
       "      <td>totam eligendi quaerat</td>\n",
       "      <td>17</td>\n",
       "      <td>1</td>\n",
       "      <td>13-04-2023 08:04</td>\n",
       "    </tr>\n",
       "  </tbody>\n",
       "</table>\n",
       "</div>"
      ],
      "text/plain": [
       "   id            comment_text  user_id  photo_id        created_at\n",
       "0   1         unde at dolorem        2         1  13-04-2023 08:04\n",
       "1   2         quae ea ducimus        3         1  13-04-2023 08:04\n",
       "2   3      alias a voluptatum        5         1  13-04-2023 08:04\n",
       "3   4    facere suscipit sunt       14         1  13-04-2023 08:04\n",
       "4   5  totam eligendi quaerat       17         1  13-04-2023 08:04"
      ]
     },
     "execution_count": 6,
     "metadata": {},
     "output_type": "execute_result"
    }
   ],
   "source": [
    "instaComments.head()"
   ]
  },
  {
   "cell_type": "code",
   "execution_count": null,
   "id": "74da71c4",
   "metadata": {},
   "outputs": [],
   "source": [
    "# Reading likes csv file using pandas"
   ]
  },
  {
   "cell_type": "code",
   "execution_count": 7,
   "id": "6b405fdd",
   "metadata": {},
   "outputs": [],
   "source": [
    "instaLikes=pd.read_csv(\"E:\\DEprojects\\data\\likes.csv\")\n"
   ]
  },
  {
   "cell_type": "code",
   "execution_count": 8,
   "id": "06e966b4",
   "metadata": {},
   "outputs": [
    {
     "data": {
      "text/html": [
       "<div>\n",
       "<style scoped>\n",
       "    .dataframe tbody tr th:only-of-type {\n",
       "        vertical-align: middle;\n",
       "    }\n",
       "\n",
       "    .dataframe tbody tr th {\n",
       "        vertical-align: top;\n",
       "    }\n",
       "\n",
       "    .dataframe thead th {\n",
       "        text-align: right;\n",
       "    }\n",
       "</style>\n",
       "<table border=\"1\" class=\"dataframe\">\n",
       "  <thead>\n",
       "    <tr style=\"text-align: right;\">\n",
       "      <th></th>\n",
       "      <th>user_id</th>\n",
       "      <th>photo_id</th>\n",
       "      <th>created_at</th>\n",
       "    </tr>\n",
       "  </thead>\n",
       "  <tbody>\n",
       "    <tr>\n",
       "      <th>0</th>\n",
       "      <td>2</td>\n",
       "      <td>1</td>\n",
       "      <td>13-04-2023 08:04</td>\n",
       "    </tr>\n",
       "    <tr>\n",
       "      <th>1</th>\n",
       "      <td>2</td>\n",
       "      <td>4</td>\n",
       "      <td>13-04-2023 08:04</td>\n",
       "    </tr>\n",
       "    <tr>\n",
       "      <th>2</th>\n",
       "      <td>2</td>\n",
       "      <td>8</td>\n",
       "      <td>13-04-2023 08:04</td>\n",
       "    </tr>\n",
       "    <tr>\n",
       "      <th>3</th>\n",
       "      <td>2</td>\n",
       "      <td>9</td>\n",
       "      <td>13-04-2023 08:04</td>\n",
       "    </tr>\n",
       "    <tr>\n",
       "      <th>4</th>\n",
       "      <td>2</td>\n",
       "      <td>10</td>\n",
       "      <td>13-04-2023 08:04</td>\n",
       "    </tr>\n",
       "  </tbody>\n",
       "</table>\n",
       "</div>"
      ],
      "text/plain": [
       "   user_id  photo_id        created_at\n",
       "0        2         1  13-04-2023 08:04\n",
       "1        2         4  13-04-2023 08:04\n",
       "2        2         8  13-04-2023 08:04\n",
       "3        2         9  13-04-2023 08:04\n",
       "4        2        10  13-04-2023 08:04"
      ]
     },
     "execution_count": 8,
     "metadata": {},
     "output_type": "execute_result"
    }
   ],
   "source": [
    "instaLikes.head()"
   ]
  },
  {
   "cell_type": "code",
   "execution_count": null,
   "id": "04f5cbc4",
   "metadata": {},
   "outputs": [],
   "source": [
    "# Reading photos csv file using pandas"
   ]
  },
  {
   "cell_type": "code",
   "execution_count": 9,
   "id": "8f80b51a",
   "metadata": {},
   "outputs": [],
   "source": [
    "instaPhotos=pd.read_csv(\"E:\\DEprojects\\data\\photos.csv\")"
   ]
  },
  {
   "cell_type": "code",
   "execution_count": 10,
   "id": "cb7962e3",
   "metadata": {},
   "outputs": [
    {
     "data": {
      "text/html": [
       "<div>\n",
       "<style scoped>\n",
       "    .dataframe tbody tr th:only-of-type {\n",
       "        vertical-align: middle;\n",
       "    }\n",
       "\n",
       "    .dataframe tbody tr th {\n",
       "        vertical-align: top;\n",
       "    }\n",
       "\n",
       "    .dataframe thead th {\n",
       "        text-align: right;\n",
       "    }\n",
       "</style>\n",
       "<table border=\"1\" class=\"dataframe\">\n",
       "  <thead>\n",
       "    <tr style=\"text-align: right;\">\n",
       "      <th></th>\n",
       "      <th>id</th>\n",
       "      <th>image_url</th>\n",
       "      <th>user_id</th>\n",
       "      <th>created_date</th>\n",
       "    </tr>\n",
       "  </thead>\n",
       "  <tbody>\n",
       "    <tr>\n",
       "      <th>0</th>\n",
       "      <td>1</td>\n",
       "      <td>http://elijah.biz</td>\n",
       "      <td>1</td>\n",
       "      <td>13-04-2023 08:04</td>\n",
       "    </tr>\n",
       "    <tr>\n",
       "      <th>1</th>\n",
       "      <td>2</td>\n",
       "      <td>https://shanon.org</td>\n",
       "      <td>1</td>\n",
       "      <td>13-04-2023 08:04</td>\n",
       "    </tr>\n",
       "    <tr>\n",
       "      <th>2</th>\n",
       "      <td>3</td>\n",
       "      <td>http://vicky.biz</td>\n",
       "      <td>1</td>\n",
       "      <td>13-04-2023 08:04</td>\n",
       "    </tr>\n",
       "    <tr>\n",
       "      <th>3</th>\n",
       "      <td>4</td>\n",
       "      <td>http://oleta.net</td>\n",
       "      <td>1</td>\n",
       "      <td>13-04-2023 08:04</td>\n",
       "    </tr>\n",
       "    <tr>\n",
       "      <th>4</th>\n",
       "      <td>5</td>\n",
       "      <td>https://jennings.biz</td>\n",
       "      <td>1</td>\n",
       "      <td>13-04-2023 08:04</td>\n",
       "    </tr>\n",
       "  </tbody>\n",
       "</table>\n",
       "</div>"
      ],
      "text/plain": [
       "   id             image_url  user_id      created_date\n",
       "0   1     http://elijah.biz        1  13-04-2023 08:04\n",
       "1   2    https://shanon.org        1  13-04-2023 08:04\n",
       "2   3      http://vicky.biz        1  13-04-2023 08:04\n",
       "3   4      http://oleta.net        1  13-04-2023 08:04\n",
       "4   5  https://jennings.biz        1  13-04-2023 08:04"
      ]
     },
     "execution_count": 10,
     "metadata": {},
     "output_type": "execute_result"
    }
   ],
   "source": [
    "instaPhotos.head()"
   ]
  },
  {
   "cell_type": "code",
   "execution_count": null,
   "id": "61a4bbaf",
   "metadata": {},
   "outputs": [],
   "source": [
    "#  Reading photo_tags csv file using pandas"
   ]
  },
  {
   "cell_type": "code",
   "execution_count": 11,
   "id": "19df4efb",
   "metadata": {},
   "outputs": [],
   "source": [
    "instaPhoto_tags=pd.read_csv(\"E:\\DEprojects\\data\\photo_tags.csv\")"
   ]
  },
  {
   "cell_type": "code",
   "execution_count": 12,
   "id": "2f929ee9",
   "metadata": {},
   "outputs": [
    {
     "data": {
      "text/html": [
       "<div>\n",
       "<style scoped>\n",
       "    .dataframe tbody tr th:only-of-type {\n",
       "        vertical-align: middle;\n",
       "    }\n",
       "\n",
       "    .dataframe tbody tr th {\n",
       "        vertical-align: top;\n",
       "    }\n",
       "\n",
       "    .dataframe thead th {\n",
       "        text-align: right;\n",
       "    }\n",
       "</style>\n",
       "<table border=\"1\" class=\"dataframe\">\n",
       "  <thead>\n",
       "    <tr style=\"text-align: right;\">\n",
       "      <th></th>\n",
       "      <th>photo_id</th>\n",
       "      <th>tag_id</th>\n",
       "    </tr>\n",
       "  </thead>\n",
       "  <tbody>\n",
       "    <tr>\n",
       "      <th>0</th>\n",
       "      <td>1</td>\n",
       "      <td>13</td>\n",
       "    </tr>\n",
       "    <tr>\n",
       "      <th>1</th>\n",
       "      <td>1</td>\n",
       "      <td>17</td>\n",
       "    </tr>\n",
       "    <tr>\n",
       "      <th>2</th>\n",
       "      <td>1</td>\n",
       "      <td>18</td>\n",
       "    </tr>\n",
       "    <tr>\n",
       "      <th>3</th>\n",
       "      <td>1</td>\n",
       "      <td>19</td>\n",
       "    </tr>\n",
       "    <tr>\n",
       "      <th>4</th>\n",
       "      <td>1</td>\n",
       "      <td>21</td>\n",
       "    </tr>\n",
       "  </tbody>\n",
       "</table>\n",
       "</div>"
      ],
      "text/plain": [
       "   photo_id  tag_id\n",
       "0         1      13\n",
       "1         1      17\n",
       "2         1      18\n",
       "3         1      19\n",
       "4         1      21"
      ]
     },
     "execution_count": 12,
     "metadata": {},
     "output_type": "execute_result"
    }
   ],
   "source": [
    "instaPhoto_tags.head()"
   ]
  },
  {
   "cell_type": "code",
   "execution_count": null,
   "id": "4f45e4e4",
   "metadata": {},
   "outputs": [],
   "source": [
    " #Reading follows csv file using pandas"
   ]
  },
  {
   "cell_type": "code",
   "execution_count": 53,
   "id": "aa8da827",
   "metadata": {},
   "outputs": [],
   "source": [
    "instaFollows=pd.read_csv(r\"E:\\DEprojects\\data\\follows.csv\")"
   ]
  },
  {
   "cell_type": "code",
   "execution_count": 54,
   "id": "04faceee",
   "metadata": {},
   "outputs": [
    {
     "data": {
      "text/html": [
       "<div>\n",
       "<style scoped>\n",
       "    .dataframe tbody tr th:only-of-type {\n",
       "        vertical-align: middle;\n",
       "    }\n",
       "\n",
       "    .dataframe tbody tr th {\n",
       "        vertical-align: top;\n",
       "    }\n",
       "\n",
       "    .dataframe thead th {\n",
       "        text-align: right;\n",
       "    }\n",
       "</style>\n",
       "<table border=\"1\" class=\"dataframe\">\n",
       "  <thead>\n",
       "    <tr style=\"text-align: right;\">\n",
       "      <th></th>\n",
       "      <th>follower_id</th>\n",
       "      <th>followee_id</th>\n",
       "      <th>created_at</th>\n",
       "    </tr>\n",
       "  </thead>\n",
       "  <tbody>\n",
       "    <tr>\n",
       "      <th>0</th>\n",
       "      <td>2</td>\n",
       "      <td>1</td>\n",
       "      <td>13-04-2023 08:04</td>\n",
       "    </tr>\n",
       "    <tr>\n",
       "      <th>1</th>\n",
       "      <td>2</td>\n",
       "      <td>3</td>\n",
       "      <td>13-04-2023 08:04</td>\n",
       "    </tr>\n",
       "    <tr>\n",
       "      <th>2</th>\n",
       "      <td>2</td>\n",
       "      <td>4</td>\n",
       "      <td>13-04-2023 08:04</td>\n",
       "    </tr>\n",
       "    <tr>\n",
       "      <th>3</th>\n",
       "      <td>2</td>\n",
       "      <td>5</td>\n",
       "      <td>13-04-2023 08:04</td>\n",
       "    </tr>\n",
       "    <tr>\n",
       "      <th>4</th>\n",
       "      <td>2</td>\n",
       "      <td>6</td>\n",
       "      <td>13-04-2023 08:04</td>\n",
       "    </tr>\n",
       "  </tbody>\n",
       "</table>\n",
       "</div>"
      ],
      "text/plain": [
       "   follower_id  followee_id        created_at\n",
       "0            2            1  13-04-2023 08:04\n",
       "1            2            3  13-04-2023 08:04\n",
       "2            2            4  13-04-2023 08:04\n",
       "3            2            5  13-04-2023 08:04\n",
       "4            2            6  13-04-2023 08:04"
      ]
     },
     "execution_count": 54,
     "metadata": {},
     "output_type": "execute_result"
    }
   ],
   "source": [
    "instaFollows.head()"
   ]
  },
  {
   "cell_type": "code",
   "execution_count": null,
   "id": "5b0aa96d",
   "metadata": {},
   "outputs": [],
   "source": [
    "# Reading  tags csv file using pandas"
   ]
  },
  {
   "cell_type": "code",
   "execution_count": 15,
   "id": "ce5a1a1d",
   "metadata": {},
   "outputs": [],
   "source": [
    "instaTags=pd.read_csv(r\"E:\\DEprojects\\data\\tags.csv\")"
   ]
  },
  {
   "cell_type": "code",
   "execution_count": 16,
   "id": "cea8203e",
   "metadata": {},
   "outputs": [
    {
     "data": {
      "text/html": [
       "<div>\n",
       "<style scoped>\n",
       "    .dataframe tbody tr th:only-of-type {\n",
       "        vertical-align: middle;\n",
       "    }\n",
       "\n",
       "    .dataframe tbody tr th {\n",
       "        vertical-align: top;\n",
       "    }\n",
       "\n",
       "    .dataframe thead th {\n",
       "        text-align: right;\n",
       "    }\n",
       "</style>\n",
       "<table border=\"1\" class=\"dataframe\">\n",
       "  <thead>\n",
       "    <tr style=\"text-align: right;\">\n",
       "      <th></th>\n",
       "      <th>id</th>\n",
       "      <th>tag_name</th>\n",
       "      <th>created_at</th>\n",
       "    </tr>\n",
       "  </thead>\n",
       "  <tbody>\n",
       "    <tr>\n",
       "      <th>0</th>\n",
       "      <td>1</td>\n",
       "      <td>sunset</td>\n",
       "      <td>13-04-2023 08:04</td>\n",
       "    </tr>\n",
       "    <tr>\n",
       "      <th>1</th>\n",
       "      <td>2</td>\n",
       "      <td>photography</td>\n",
       "      <td>13-04-2023 08:04</td>\n",
       "    </tr>\n",
       "    <tr>\n",
       "      <th>2</th>\n",
       "      <td>3</td>\n",
       "      <td>sunrise</td>\n",
       "      <td>13-04-2023 08:04</td>\n",
       "    </tr>\n",
       "    <tr>\n",
       "      <th>3</th>\n",
       "      <td>4</td>\n",
       "      <td>landscape</td>\n",
       "      <td>13-04-2023 08:04</td>\n",
       "    </tr>\n",
       "    <tr>\n",
       "      <th>4</th>\n",
       "      <td>5</td>\n",
       "      <td>food</td>\n",
       "      <td>13-04-2023 08:04</td>\n",
       "    </tr>\n",
       "  </tbody>\n",
       "</table>\n",
       "</div>"
      ],
      "text/plain": [
       "   id     tag_name        created_at\n",
       "0   1       sunset  13-04-2023 08:04\n",
       "1   2  photography  13-04-2023 08:04\n",
       "2   3      sunrise  13-04-2023 08:04\n",
       "3   4    landscape  13-04-2023 08:04\n",
       "4   5         food  13-04-2023 08:04"
      ]
     },
     "execution_count": 16,
     "metadata": {},
     "output_type": "execute_result"
    }
   ],
   "source": [
    "instaTags.head()"
   ]
  },
  {
   "cell_type": "code",
   "execution_count": null,
   "id": "0e8d9e8f",
   "metadata": {},
   "outputs": [],
   "source": [
    "# Reading Users csv file using pandas"
   ]
  },
  {
   "cell_type": "code",
   "execution_count": 46,
   "id": "0c5adde9",
   "metadata": {},
   "outputs": [],
   "source": [
    "instaUsers=pd.read_csv(r\"E:\\DEprojects\\data\\users.csv\")"
   ]
  },
  {
   "cell_type": "code",
   "execution_count": 47,
   "id": "d0c39b31",
   "metadata": {},
   "outputs": [
    {
     "data": {
      "text/html": [
       "<div>\n",
       "<style scoped>\n",
       "    .dataframe tbody tr th:only-of-type {\n",
       "        vertical-align: middle;\n",
       "    }\n",
       "\n",
       "    .dataframe tbody tr th {\n",
       "        vertical-align: top;\n",
       "    }\n",
       "\n",
       "    .dataframe thead th {\n",
       "        text-align: right;\n",
       "    }\n",
       "</style>\n",
       "<table border=\"1\" class=\"dataframe\">\n",
       "  <thead>\n",
       "    <tr style=\"text-align: right;\">\n",
       "      <th></th>\n",
       "      <th>id</th>\n",
       "      <th>username</th>\n",
       "      <th>created_at</th>\n",
       "    </tr>\n",
       "  </thead>\n",
       "  <tbody>\n",
       "    <tr>\n",
       "      <th>0</th>\n",
       "      <td>1</td>\n",
       "      <td>Kenton_Kirlin</td>\n",
       "      <td>16-02-2017 18:22</td>\n",
       "    </tr>\n",
       "    <tr>\n",
       "      <th>1</th>\n",
       "      <td>2</td>\n",
       "      <td>Andre_Purdy85</td>\n",
       "      <td>02-04-2017 17:11</td>\n",
       "    </tr>\n",
       "    <tr>\n",
       "      <th>2</th>\n",
       "      <td>3</td>\n",
       "      <td>Harley_Lind18</td>\n",
       "      <td>21-02-2017 11:12</td>\n",
       "    </tr>\n",
       "    <tr>\n",
       "      <th>3</th>\n",
       "      <td>4</td>\n",
       "      <td>Arely_Bogan63</td>\n",
       "      <td>13-08-2016 01:28</td>\n",
       "    </tr>\n",
       "    <tr>\n",
       "      <th>4</th>\n",
       "      <td>5</td>\n",
       "      <td>Aniya_Hackett</td>\n",
       "      <td>07-12-2016 01:04</td>\n",
       "    </tr>\n",
       "  </tbody>\n",
       "</table>\n",
       "</div>"
      ],
      "text/plain": [
       "   id       username        created_at\n",
       "0   1  Kenton_Kirlin  16-02-2017 18:22\n",
       "1   2  Andre_Purdy85  02-04-2017 17:11\n",
       "2   3  Harley_Lind18  21-02-2017 11:12\n",
       "3   4  Arely_Bogan63  13-08-2016 01:28\n",
       "4   5  Aniya_Hackett  07-12-2016 01:04"
      ]
     },
     "execution_count": 47,
     "metadata": {},
     "output_type": "execute_result"
    }
   ],
   "source": [
    "instaUsers.head()"
   ]
  },
  {
   "cell_type": "code",
   "execution_count": null,
   "id": "0db0148f",
   "metadata": {},
   "outputs": [],
   "source": [
    "# calling create_database function"
   ]
  },
  {
   "cell_type": "code",
   "execution_count": 19,
   "id": "a895d3ca",
   "metadata": {},
   "outputs": [],
   "source": [
    "cur,conn=create_database()"
   ]
  },
  {
   "cell_type": "markdown",
   "id": "59e2a529",
   "metadata": {},
   "source": [
    "# Creating tables"
   ]
  },
  {
   "cell_type": "code",
   "execution_count": 20,
   "id": "7dd0ede6",
   "metadata": {},
   "outputs": [],
   "source": [
    "#instaComments table\n",
    "comments_table_create=(\"\"\"CREATE TABLE IF NOT EXISTS instaComments(\n",
    "id INTEGER PRIMARY KEY,\n",
    "comment_taxt VARCHAR,\n",
    "user_id INTEGER,\n",
    "photo_id INTEGER,\n",
    "created_at TIMESTAMP)\"\"\")"
   ]
  },
  {
   "cell_type": "code",
   "execution_count": 21,
   "id": "9c067bf7",
   "metadata": {},
   "outputs": [],
   "source": [
    "cur.execute(comments_table_create)\n",
    "conn.commit()"
   ]
  },
  {
   "cell_type": "code",
   "execution_count": 22,
   "id": "dc45bed2",
   "metadata": {},
   "outputs": [],
   "source": [
    "# instaLikes table\n",
    "likes_table_create=(\"\"\"CREATE TABLE IF NOT EXISTS instaLikes(\n",
    "user_id INTEGER,\n",
    "photo_id INTEGER,\n",
    "created_at TIMESTAMP)\"\"\")"
   ]
  },
  {
   "cell_type": "code",
   "execution_count": 23,
   "id": "4ad69ef4",
   "metadata": {},
   "outputs": [],
   "source": [
    "cur.execute(likes_table_create)\n",
    "conn.commit()"
   ]
  },
  {
   "cell_type": "code",
   "execution_count": 24,
   "id": "1e951a32",
   "metadata": {},
   "outputs": [],
   "source": [
    "#instaPhoto_tags table\n",
    "photo_tags_table_create=(\"\"\"CREATE TABLE IF NOT EXISTS instaPhoto_tags(\n",
    "photo_id INTEGER,\n",
    "tag_id  INTEGER)\"\"\")"
   ]
  },
  {
   "cell_type": "code",
   "execution_count": 25,
   "id": "fef232f7",
   "metadata": {},
   "outputs": [],
   "source": [
    "cur.execute(photo_tags_table_create)\n",
    "conn.commit()"
   ]
  },
  {
   "cell_type": "code",
   "execution_count": 26,
   "id": "87c22454",
   "metadata": {},
   "outputs": [],
   "source": [
    "#instaPhotos table\n",
    "photos_table_create=(\"\"\"CREATE TABLE IF NOT EXISTS instaPhotos(\n",
    "id integer PRIMARY KEY,\n",
    "image_url VARCHAR,\n",
    "user_id INTEGER,\n",
    "created_date TIMESTAMP)\"\"\")"
   ]
  },
  {
   "cell_type": "code",
   "execution_count": 27,
   "id": "e27e6c99",
   "metadata": {},
   "outputs": [],
   "source": [
    "cur.execute(photos_table_create)\n",
    "conn.commit()"
   ]
  },
  {
   "cell_type": "code",
   "execution_count": 28,
   "id": "6089e8c2",
   "metadata": {},
   "outputs": [],
   "source": [
    "#instaTags table\n",
    "tags_table_create=(\"\"\"CREATE TABLE IF NOT EXISTS instaTags(\n",
    "id INTEGER PRIMARY KEY,\n",
    "tag_name VARCHAR,\n",
    "created_at TIMESTAMP)\"\"\")"
   ]
  },
  {
   "cell_type": "code",
   "execution_count": 29,
   "id": "4f77fcb0",
   "metadata": {},
   "outputs": [],
   "source": [
    "cur.execute(tags_table_create)\n",
    "conn.commit()"
   ]
  },
  {
   "cell_type": "code",
   "execution_count": 30,
   "id": "2477812e",
   "metadata": {},
   "outputs": [],
   "source": [
    "#instaUsers table\n",
    "users_table_create=(\"\"\"CREATE TABLE IF NOT EXISTS instaUsers(\n",
    "id INTEGER PRIMARY KEY,\n",
    "username VARCHAR,\n",
    "created_at TIMESTAMP)\"\"\")"
   ]
  },
  {
   "cell_type": "code",
   "execution_count": 31,
   "id": "d6ed39f7",
   "metadata": {},
   "outputs": [],
   "source": [
    "cur.execute(users_table_create)\n",
    "conn.commit()"
   ]
  },
  {
   "cell_type": "code",
   "execution_count": 32,
   "id": "f5e6e7f9",
   "metadata": {},
   "outputs": [],
   "source": [
    "#instaFollows table\n",
    "follows_table_create=(\"\"\"CREATE TABLE IF NOT EXISTS instaFollows(\n",
    "follower_id INTEGER,\n",
    "followee_id INTEGER,\n",
    "created_at TIMESTAMP)\"\"\")"
   ]
  },
  {
   "cell_type": "code",
   "execution_count": 33,
   "id": "cda35217",
   "metadata": {},
   "outputs": [],
   "source": [
    "cur.execute(follows_table_create)\n",
    "conn.commit()"
   ]
  },
  {
   "cell_type": "markdown",
   "id": "c025bb1a",
   "metadata": {},
   "source": [
    "# Inserting data into target tables"
   ]
  },
  {
   "cell_type": "code",
   "execution_count": 34,
   "id": "c0c61b96",
   "metadata": {},
   "outputs": [],
   "source": [
    "import csv\n",
    "import psycopg2\n",
    "conn=psycopg2.connect(\"host=127.0.0.1 dbname=instagram user=postgres password=8523058480\")\n",
    "cur=conn.cursor()\n",
    "with open(\"E:\\DEprojects\\data\\comments.csv\",'r')as f:\n",
    "    reader=csv.reader(f)\n",
    "    next(reader)\n",
    "    for row in reader:\n",
    "        cur.execute(\"insert into instaComments values(%s,%s,%s,%s,%s)\",\n",
    "        row\n",
    "    )\n",
    "conn.commit()"
   ]
  },
  {
   "cell_type": "code",
   "execution_count": 36,
   "id": "71d19f96",
   "metadata": {},
   "outputs": [],
   "source": [
    "# comments_table_insert=(\"\"\"INSERT INTO instaComments(\n",
    "# id,\n",
    "# comment_taxt,\n",
    "# user_id,\n",
    "# photo_id)\n",
    "# values(%s,%s,%s,%s)\"\"\")\n",
    "# for i,row in instaComments.iterrows():\n",
    "#     #print(list(row))\n",
    "#     cur.execute(comments_table_insert,list(row))\n",
    "# conn.commit()\n",
    "    "
   ]
  },
  {
   "cell_type": "code",
   "execution_count": 35,
   "id": "6f9dee0d",
   "metadata": {},
   "outputs": [],
   "source": [
    "# inserting into instaLikes table\n",
    "likes_table_insert=(\"\"\"INSERT INTO instaLikes(\n",
    "user_id,\n",
    "photo_id,\n",
    "created_at)\n",
    "values(%s,%s,%s)\"\"\")\n",
    "for i,row in instaLikes.iterrows():\n",
    "    #print(list(row))\n",
    "    cur.execute(likes_table_insert,list(row))\n",
    "conn.commit()\n",
    "    "
   ]
  },
  {
   "cell_type": "code",
   "execution_count": 36,
   "id": "b19cb614",
   "metadata": {},
   "outputs": [],
   "source": [
    "#inserting into instaPhoto_tags table\n",
    "photo_tags_table_insert=(\"\"\"INSERT INTO instaPhoto_tags(\n",
    "photo_id,\n",
    "tag_id)\n",
    "values(%s,%s)\"\"\")\n",
    "for i,row in instaPhoto_tags.iterrows():\n",
    "    #print(list(row))\n",
    "    cur.execute(photo_tags_table_insert,list(row))\n",
    "    \n",
    "conn.commit()"
   ]
  },
  {
   "cell_type": "code",
   "execution_count": 37,
   "id": "998f739e",
   "metadata": {},
   "outputs": [],
   "source": [
    "#inserting into instaPhotos table\n",
    "photos_table_insert=(\"\"\"INSERT INTO instaPhotos(\n",
    "id,\n",
    "image_url,\n",
    "user_id,\n",
    "created_date)\n",
    "values(%s,%s,%s,%s)\"\"\")\n",
    "for i,row in instaPhotos.iterrows():\n",
    "    #print(list(row))\n",
    "    cur.execute(photos_table_insert,list(row))\n",
    "conn.commit()\n",
    "    "
   ]
  },
  {
   "cell_type": "code",
   "execution_count": 38,
   "id": "2ec0f786",
   "metadata": {},
   "outputs": [],
   "source": [
    "#inserting into instaTags table\n",
    "\n",
    "tags_table_insert=(\"\"\"INSERT INTO instaTags(\n",
    "id,\n",
    "tag_name,\n",
    "created_at)\n",
    "values(%s,%s,%s)\"\"\")\n",
    "for i,row in instaTags.iterrows():\n",
    "    #print(list(row))\n",
    "    cur.execute(tags_table_insert,list(row))\n",
    "conn.commit()\n",
    "    "
   ]
  },
  {
   "cell_type": "code",
   "execution_count": null,
   "id": "fc6ae03a",
   "metadata": {},
   "outputs": [],
   "source": [
    "#inserting into instaUsers table\n",
    "\n",
    "# users_table_insert=(\"\"\"INSERT INTO instaUsers(\n",
    "# id,\n",
    "# username,\n",
    "# created_at)\n",
    "# values(%s,%s,%s)\"\"\")\n",
    "# for i,row in instaUsers.iterrows():\n",
    "#     #print(list(row))\n",
    "#     cur.execute(users_table_insert,list(row))\n",
    "# conn.commit()    "
   ]
  },
  {
   "cell_type": "code",
   "execution_count": 56,
   "id": "5866a418",
   "metadata": {},
   "outputs": [],
   "source": [
    "import csv\n",
    "import psycopg2\n",
    "conn=psycopg2.connect(\"host=127.0.0.1 dbname=instagram user=postgres password=8523058480\")\n",
    "cur=conn.cursor()\n",
    "with open(r\"E:\\DEprojects\\data\\users.csv\")as f:\n",
    "    reader=csv.reader(f)\n",
    "    next(reader)\n",
    "    for row in reader:\n",
    "        cur.execute(\"insert into instaUsers values(%s,%s,%s)\",\n",
    "        row\n",
    "    )\n",
    "conn.commit()"
   ]
  },
  {
   "cell_type": "code",
   "execution_count": null,
   "id": "047f3c9d",
   "metadata": {},
   "outputs": [],
   "source": [
    "#inserting into instaFollows table\n",
    "\n",
    "# follows_table_insert=(\"\"\"INSERT INTO instFollows(\n",
    "# follower_id,\n",
    "# follwee_id,\n",
    "# created_at)\n",
    "# values(%s,%s,%s)\"\"\")\n",
    "# for i,row in instaFollows.iterrows():\n",
    "#     #print(list(row))\n",
    "#     cur.execute(follows_table_insert,list(row))\n",
    "# conn.commit()"
   ]
  },
  {
   "cell_type": "code",
   "execution_count": 55,
   "id": "0dde20b4",
   "metadata": {},
   "outputs": [],
   "source": [
    "import csv\n",
    "import psycopg2\n",
    "conn=psycopg2.connect(\"host=127.0.0.1 dbname=instagram user=postgres password=8523058480\")\n",
    "cur=conn.cursor()\n",
    "with open(r\"E:\\DEprojects\\data\\follows.csv\")as f:\n",
    "    reader=csv.reader(f)\n",
    "    next(reader)\n",
    "    for row in reader:\n",
    "        cur.execute(\"insert into instaFollows values(%s,%s,%s)\",\n",
    "        row\n",
    "    )\n",
    "conn.commit()\n"
   ]
  },
  {
   "cell_type": "code",
   "execution_count": 44,
   "id": "69f25c55",
   "metadata": {},
   "outputs": [],
   "source": [
    "cur.close()\n",
    "conn.close()"
   ]
  },
  {
   "cell_type": "code",
   "execution_count": null,
   "id": "01cdf7c8",
   "metadata": {},
   "outputs": [],
   "source": []
  },
  {
   "cell_type": "code",
   "execution_count": null,
   "id": "8c25428f",
   "metadata": {},
   "outputs": [],
   "source": []
  }
 ],
 "metadata": {
  "kernelspec": {
   "display_name": "Python 3 (ipykernel)",
   "language": "python",
   "name": "python3"
  },
  "language_info": {
   "codemirror_mode": {
    "name": "ipython",
    "version": 3
   },
   "file_extension": ".py",
   "mimetype": "text/x-python",
   "name": "python",
   "nbconvert_exporter": "python",
   "pygments_lexer": "ipython3",
   "version": "3.11.3"
  }
 },
 "nbformat": 4,
 "nbformat_minor": 5
}
